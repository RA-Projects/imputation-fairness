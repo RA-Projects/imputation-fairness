{
 "cells": [
  {
   "cell_type": "code",
   "execution_count": 30,
   "id": "1974bbb7",
   "metadata": {},
   "outputs": [],
   "source": [
    "import pandas as pd\n",
    "import numpy as np\n",
    "import scipy as sp\n",
    "from scipy.linalg import svdvals"
   ]
  },
  {
   "cell_type": "code",
   "execution_count": 25,
   "id": "41333315",
   "metadata": {},
   "outputs": [
    {
     "data": {
      "text/plain": [
       "array([2, 3], dtype=int64)"
      ]
     },
     "execution_count": 25,
     "metadata": {},
     "output_type": "execute_result"
    }
   ],
   "source": [
    "temp = np.array([1,2,3,3,4])\n",
    "np.where(temp == 3)[0]"
   ]
  },
  {
   "cell_type": "markdown",
   "id": "73432196",
   "metadata": {},
   "source": [
    "## Rank Guess"
   ]
  },
  {
   "cell_type": "code",
   "execution_count": 206,
   "id": "2b4de3c0",
   "metadata": {},
   "outputs": [],
   "source": [
    "def guess_rank(X, nnz):\n",
    "    maxiter = 1e4\n",
    "    n = X.shape[0]\n",
    "    m = X.shape[1]\n",
    "    epsilon = nnz/np.sqrt(m*n)\n",
    "    S0 = svdvals(X)\n",
    "    \n",
    "    nsval0 = len(S0)\n",
    "    S1 = S0[0:(nsval0-1)] - S0[1:nsval0]\n",
    "    nsval1 = len(S1)\n",
    "    if(nsval1 > 10):\n",
    "        S1_ = S1/np.mean(S1[(nsval1-10):nsval1])\n",
    "    else:\n",
    "        S1_ = S1/np.mean(S1[0:nsval1])\n",
    "    r1 = 0\n",
    "    lam = 0.05\n",
    "    \n",
    "    itcounter = 0\n",
    "    while(r1 <= 0):\n",
    "        itcounter += 1\n",
    "        #print(len(S1_))\n",
    "        cost = np.zeros(len(S1_))\n",
    "        for idx in range(len(S1_)):\n",
    "            #print(idx)\n",
    "            cost[idx] = lam*max(S1_[idx:]) + (idx+1)\n",
    "        #print(cost)\n",
    "        v2 = min(cost)\n",
    "        i2 = np.where(cost == v2)[0]\n",
    "        if(len(i2) == 1):\n",
    "            r1 = i2\n",
    "        else:\n",
    "            r1 = max(i2)\n",
    "        lam += 0.05\n",
    "        if(itcounter > maxiter):\n",
    "            break\n",
    "    \n",
    "    if(itcounter <= maxiter):\n",
    "        cost2 = np.zeros((len(S0) - 1))\n",
    "        for idx in range(len(S0) - 1):\n",
    "            cost2[idx] = (S0[idx + 1] + np.sqrt(idx*epsilon)*S0[1]/epsilon)/S0[idx]\n",
    "        v2 = min(cost2)\n",
    "        i2 = np.where(cost2 == v2)[0]\n",
    "        if(len(i2) == 1):\n",
    "            r2 = i2\n",
    "        else:\n",
    "            r2 = max(i2)\n",
    "\n",
    "        if(r1 > r2):\n",
    "            r = r1\n",
    "        else:\n",
    "            r = r2\n",
    "        return r\n",
    "    else:\n",
    "        r = min(X.shape[0], X.shape[1])\n",
    "        return r"
   ]
  },
  {
   "cell_type": "code",
   "execution_count": 243,
   "id": "4d7032c4",
   "metadata": {},
   "outputs": [
    {
     "data": {
      "text/plain": [
       "2"
      ]
     },
     "execution_count": 243,
     "metadata": {},
     "output_type": "execute_result"
    }
   ],
   "source": [
    "guess_rank(X, 3)"
   ]
  },
  {
   "cell_type": "code",
   "execution_count": 204,
   "id": "ea850fee",
   "metadata": {},
   "outputs": [],
   "source": [
    "X = np.array([[22,34,74], [53, 64, 96]])"
   ]
  },
  {
   "cell_type": "code",
   "execution_count": 165,
   "id": "3888bb74",
   "metadata": {},
   "outputs": [],
   "source": [
    "nnz = 3\n",
    "maxiter = 1e4\n",
    "n = X.shape[0]\n",
    "m = X.shape[1]\n",
    "epsilon = nnz/np.sqrt(m*n)\n",
    "S0 = svdvals(X)"
   ]
  },
  {
   "cell_type": "code",
   "execution_count": 166,
   "id": "ec8a968a",
   "metadata": {},
   "outputs": [
    {
     "data": {
      "text/plain": [
       "array([222.61700179,  34.61356819,  28.7512687 ,  18.1365917 ])"
      ]
     },
     "execution_count": 166,
     "metadata": {},
     "output_type": "execute_result"
    }
   ],
   "source": [
    "S0"
   ]
  },
  {
   "cell_type": "code",
   "execution_count": 192,
   "id": "a073ac91",
   "metadata": {},
   "outputs": [],
   "source": [
    "nsval0 = len(S0)\n",
    "S1 = S0[0:(nsval0-1)] - S0[1:nsval0]\n",
    "nsval1 = len(S1)\n",
    "if(nsval1 > 10):\n",
    "    S1_ = S1/np.mean(S1[(nsval1-10):nsval1])\n",
    "else:\n",
    "    S1_ = S1/np.mean(S1[0:nsval1])\n",
    "r1 = 0\n",
    "lam = 0.05"
   ]
  },
  {
   "cell_type": "code",
   "execution_count": 193,
   "id": "3629fede",
   "metadata": {},
   "outputs": [
    {
     "data": {
      "text/plain": [
       "array([2.75826081, 0.08600774, 0.15573145])"
      ]
     },
     "execution_count": 193,
     "metadata": {},
     "output_type": "execute_result"
    }
   ],
   "source": [
    "S1_"
   ]
  },
  {
   "cell_type": "code",
   "execution_count": 184,
   "id": "f6ce0cc6",
   "metadata": {},
   "outputs": [
    {
     "data": {
      "text/plain": [
       "468.24885985833254"
      ]
     },
     "execution_count": 184,
     "metadata": {},
     "output_type": "execute_result"
    }
   ],
   "source": [
    "lam*max(S1_[1:])+1"
   ]
  },
  {
   "cell_type": "code",
   "execution_count": 195,
   "id": "71370dae",
   "metadata": {},
   "outputs": [
    {
     "name": "stdout",
     "output_type": "stream",
     "text": [
      "3\n",
      "[1.13791304 2.00778657 3.00778657]\n",
      "[1.27582608 2.01557315 3.01557315]\n",
      "[1.41373912 2.02335972 3.02335972]\n",
      "[1.55165216 2.03114629 3.03114629]\n",
      "[1.6895652  2.03893286 3.03893286]\n",
      "[1.82747824 2.04671944 3.04671944]\n",
      "[1.96539128 2.05450601 3.05450601]\n",
      "[2.10330432 2.06229258 3.06229258]\n",
      "[2.10330432 2.06229258 3.06229258]\n"
     ]
    }
   ],
   "source": [
    "itcounter = 0\n",
    "print(len(S1_))\n",
    "while(r1 <= 0):\n",
    "    itcounter += 1\n",
    "    cost = np.zeros(len(S1_))\n",
    "    for idx in range(len(S1_)):\n",
    "        #print(idx)\n",
    "        cost[idx] = lam*max(S1_[idx:]) + (idx+1)\n",
    "    print(cost)\n",
    "    v2 = min(cost)\n",
    "    i2 = np.where(cost == v2)[0]\n",
    "    if(len(i2) == 1):\n",
    "        r1 = i2\n",
    "    else:\n",
    "        r1 = max(i2)\n",
    "    lam += 0.05\n",
    "    if(itcounter > maxiter):\n",
    "        break\n",
    "print(cost)"
   ]
  },
  {
   "cell_type": "code",
   "execution_count": 197,
   "id": "9accc0aa",
   "metadata": {},
   "outputs": [
    {
     "name": "stdout",
     "output_type": "stream",
     "text": [
      "[1]\n"
     ]
    }
   ],
   "source": [
    "if(itcounter <= maxiter):\n",
    "    cost2 = np.zeros((len(S0) - 1))\n",
    "    for idx in range(len(S0) - 1):\n",
    "        cost2[idx] = (S0[idx + 1] + np.sqrt(idx*epsilon)*S0[1]/epsilon)/S0[idx]\n",
    "    v2 = min(cost2)\n",
    "    i2 = np.where(cost2 == v2)[0]\n",
    "    if(len(i2) == 1):\n",
    "        r2 = i2\n",
    "    else:\n",
    "        r2 = max(i2)\n",
    "        \n",
    "    if(r1 > r2):\n",
    "        r = r1\n",
    "    else:\n",
    "        r = r2\n",
    "    print(r)\n",
    "else:\n",
    "    r = min(X.shape[0], X.shape[1])\n",
    "    print(r[0])"
   ]
  },
  {
   "cell_type": "code",
   "execution_count": 173,
   "id": "b34c18fd",
   "metadata": {},
   "outputs": [
    {
     "data": {
      "text/plain": [
       "4"
      ]
     },
     "execution_count": 173,
     "metadata": {},
     "output_type": "execute_result"
    }
   ],
   "source": [
    "np.linalg.matrix_rank(X, 3/np.sqrt(X.shape[0]*X.shape[1]))"
   ]
  },
  {
   "cell_type": "code",
   "execution_count": 208,
   "id": "ea54a735",
   "metadata": {},
   "outputs": [
    {
     "data": {
      "text/plain": [
       "array([[22, 34, 74],\n",
       "       [53, 64, 96]])"
      ]
     },
     "execution_count": 208,
     "metadata": {},
     "output_type": "execute_result"
    }
   ],
   "source": [
    "X"
   ]
  },
  {
   "cell_type": "code",
   "execution_count": 209,
   "id": "4eb1fa82",
   "metadata": {},
   "outputs": [],
   "source": [
    "Y = np.array([[3,4,7], [5, 6, 9]])"
   ]
  },
  {
   "cell_type": "code",
   "execution_count": 95,
   "id": "3f111819",
   "metadata": {},
   "outputs": [
    {
     "data": {
      "text/plain": [
       "array([45, 56])"
      ]
     },
     "execution_count": 95,
     "metadata": {},
     "output_type": "execute_result"
    }
   ],
   "source": [
    "X[X>10]"
   ]
  },
  {
   "cell_type": "markdown",
   "id": "8d115c0e",
   "metadata": {},
   "source": [
    "## Distortion"
   ]
  },
  {
   "cell_type": "code",
   "execution_count": 603,
   "id": "2dd29187",
   "metadata": {},
   "outputs": [
    {
     "name": "stdout",
     "output_type": "stream",
     "text": [
      "0.0\n"
     ]
    }
   ],
   "source": [
    "z = np.sum(X**2, axis = 1)/(2*1e4*1)\n",
    "y = np.exp((z-1)**2) - 1\n",
    "idxfind = np.where(z<1)\n",
    "y[idxfind] = 0\n",
    "out = sum(y)\n",
    "print(out)"
   ]
  },
  {
   "cell_type": "code",
   "execution_count": 604,
   "id": "5b2c2974",
   "metadata": {},
   "outputs": [],
   "source": [
    "def aux_G(X, m0, r):\n",
    "    z = np.sum(X**2, axis = 1)/(2*m0*r)\n",
    "    y = np.exp((z-1)**2) - 1\n",
    "    idxfind = np.where(z<1)\n",
    "    y[idxfind] = 0\n",
    "    out = sum(y)\n",
    "    return out"
   ]
  },
  {
   "cell_type": "code",
   "execution_count": 628,
   "id": "6308befb",
   "metadata": {},
   "outputs": [],
   "source": [
    "def aux_F_t(X,Y,S,M_E,E,m0,rho):\n",
    "    n = X.shape[0]\n",
    "    r = X.shape[1]\n",
    "    \n",
    "    out1 = np.sum((((X@S@(Y.T))-M_E)*E)**2)/2\n",
    "    out2 = rho*aux_G(Y,m0,r)\n",
    "    out3 = rho*aux_G(X,m0,r)\n",
    "    out = out1+out2+out3\n",
    "    return(out)"
   ]
  },
  {
   "cell_type": "code",
   "execution_count": 625,
   "id": "9852bef9",
   "metadata": {},
   "outputs": [
    {
     "data": {
      "text/plain": [
       "-0.21367627364940522"
      ]
     },
     "execution_count": 625,
     "metadata": {},
     "output_type": "execute_result"
    }
   ],
   "source": [
    "np.sum(((X@S@(Y.T))-M_E)*E**2)/2"
   ]
  },
  {
   "cell_type": "code",
   "execution_count": 616,
   "id": "da65f61e",
   "metadata": {},
   "outputs": [
    {
     "data": {
      "text/plain": [
       "array([[-0.20504845,  1.22333936],\n",
       "       [-0.9274427 ,  0.94661364],\n",
       "       [-1.44838019, -0.77933525]])"
      ]
     },
     "execution_count": 616,
     "metadata": {},
     "output_type": "execute_result"
    }
   ],
   "source": [
    "Y"
   ]
  },
  {
   "cell_type": "code",
   "execution_count": 629,
   "id": "edbf4be4",
   "metadata": {},
   "outputs": [
    {
     "data": {
      "text/plain": [
       "0.09179547747102265"
      ]
     },
     "execution_count": 629,
     "metadata": {},
     "output_type": "execute_result"
    }
   ],
   "source": [
    "aux_F_t(X,Y,S,M_E,E,m0, rho)"
   ]
  },
  {
   "cell_type": "markdown",
   "id": "2ee57f77",
   "metadata": {},
   "source": [
    "## Gradient"
   ]
  },
  {
   "cell_type": "code",
   "execution_count": 587,
   "id": "ba03a52d",
   "metadata": {},
   "outputs": [],
   "source": [
    "def aux_Gp(X,m0,r):\n",
    "    z = np.sum(X**2, axis = 1)/(2*m0*r)\n",
    "    z = 2*np.exp((z-1)**2)/(z-1)\n",
    "    idxfind = np.where(z<0)\n",
    "    z[idxfind] = 0\n",
    "    \n",
    "    nrow = X.shape[0]\n",
    "    ncol = X.shape[1]\n",
    "    \n",
    "    if nrow < ncol:\n",
    "        j = 0\n",
    "        temp_tup = []\n",
    "        for i in range(ncol):\n",
    "            temp_tup.append([z[j%4], z[(j+1)%4], z[(j+2)%4]])\n",
    "            j += 3\n",
    "    else:\n",
    "        temp_tup = []\n",
    "        for i in range(ncol):\n",
    "            temp_tup.append(np.transpose(z))\n",
    "            \n",
    "    z_new = np.transpose(np.array(temp_tup))\n",
    "    \n",
    "    \n",
    "    out = (X*z_new)/(m0*r)\n",
    "    return out"
   ]
  },
  {
   "cell_type": "code",
   "execution_count": 570,
   "id": "9ff28190",
   "metadata": {},
   "outputs": [
    {
     "data": {
      "text/plain": [
       "20000.0"
      ]
     },
     "execution_count": 570,
     "metadata": {},
     "output_type": "execute_result"
    }
   ],
   "source": [
    "m0*r"
   ]
  },
  {
   "cell_type": "code",
   "execution_count": 577,
   "id": "07ea79bf",
   "metadata": {},
   "outputs": [],
   "source": [
    "z_new = np.array([[0, 0], [0, 0], [0, 0]])"
   ]
  },
  {
   "cell_type": "code",
   "execution_count": 557,
   "id": "744363bf",
   "metadata": {},
   "outputs": [
    {
     "data": {
      "text/plain": [
       "2"
      ]
     },
     "execution_count": 557,
     "metadata": {},
     "output_type": "execute_result"
    }
   ],
   "source": [
    "r"
   ]
  },
  {
   "cell_type": "code",
   "execution_count": 581,
   "id": "09826674",
   "metadata": {},
   "outputs": [
    {
     "data": {
      "text/plain": [
       "array([[-0., -0.],\n",
       "       [-0.,  0.],\n",
       "       [-0., -0.]])"
      ]
     },
     "execution_count": 581,
     "metadata": {},
     "output_type": "execute_result"
    }
   ],
   "source": [
    "rho*(X*z_new)/(m0*r)"
   ]
  },
  {
   "cell_type": "code",
   "execution_count": 573,
   "id": "d7eb0410",
   "metadata": {},
   "outputs": [
    {
     "name": "stdout",
     "output_type": "stream",
     "text": [
      "[1.87596358e-05 7.11250557e-05 6.01153085e-05]\n",
      "[-5.43646167 -5.43617704 -5.43623688]\n",
      "(array([0, 1, 2], dtype=int64),)\n",
      "[0. 0. 0.]\n",
      "[[0. 0.]\n",
      " [0. 0.]\n",
      " [0. 0.]]\n"
     ]
    },
    {
     "data": {
      "text/plain": [
       "array([[-0., -0.],\n",
       "       [-0.,  0.],\n",
       "       [-0., -0.]])"
      ]
     },
     "execution_count": 573,
     "metadata": {},
     "output_type": "execute_result"
    }
   ],
   "source": [
    "aux_Gp(X, m0, r)"
   ]
  },
  {
   "cell_type": "code",
   "execution_count": 124,
   "id": "8a6bf433",
   "metadata": {},
   "outputs": [],
   "source": [
    "temp = np.array([1,2,3,4])"
   ]
  },
  {
   "cell_type": "code",
   "execution_count": 125,
   "id": "8d2392f0",
   "metadata": {},
   "outputs": [
    {
     "data": {
      "text/plain": [
       "array([1, 2, 3, 4])"
      ]
     },
     "execution_count": 125,
     "metadata": {},
     "output_type": "execute_result"
    }
   ],
   "source": [
    "temp"
   ]
  },
  {
   "cell_type": "code",
   "execution_count": 145,
   "id": "421cbacc",
   "metadata": {},
   "outputs": [],
   "source": [
    "nrow = 3\n",
    "ncol = 4\n",
    "\n",
    "if nrow < ncol:\n",
    "    j = 0\n",
    "    temp_tup = []\n",
    "    for i in range(ncol):\n",
    "        temp_tup.append([temp[j%4], temp[(j+1)%4], temp[(j+2)%4]])\n",
    "        j += 3\n",
    "else:\n",
    "    temp_tup = []\n",
    "    for i in range(ncol):\n",
    "        temp_tup.append(np.transpose(temp))\n",
    "        "
   ]
  },
  {
   "cell_type": "code",
   "execution_count": 146,
   "id": "9f291c5b",
   "metadata": {},
   "outputs": [
    {
     "data": {
      "text/plain": [
       "array([[1, 4, 3, 2],\n",
       "       [2, 1, 4, 3],\n",
       "       [3, 2, 1, 4]])"
      ]
     },
     "execution_count": 146,
     "metadata": {},
     "output_type": "execute_result"
    }
   ],
   "source": [
    "np.transpose(np.array(temp_tup))"
   ]
  },
  {
   "cell_type": "code",
   "execution_count": 149,
   "id": "4a2969da",
   "metadata": {},
   "outputs": [
    {
     "data": {
      "text/plain": [
       "array([[ 8, 14],\n",
       "       [18, 32]])"
      ]
     },
     "execution_count": 149,
     "metadata": {},
     "output_type": "execute_result"
    }
   ],
   "source": [
    "a = np.array([[1,2],[3,4]])\n",
    "b = np.array([[2,3],[4,5]])\n",
    "a@np.transpose(b)"
   ]
  },
  {
   "cell_type": "code",
   "execution_count": 521,
   "id": "c0cdd62b",
   "metadata": {},
   "outputs": [
    {
     "data": {
      "text/plain": [
       "array([[0.49613894, 0.        , 1.48841682],\n",
       "       [0.99227788, 0.74420841, 0.        ],\n",
       "       [0.        , 1.73648628, 2.23262522]])"
      ]
     },
     "execution_count": 521,
     "metadata": {},
     "output_type": "execute_result"
    }
   ],
   "source": [
    "M_E"
   ]
  },
  {
   "cell_type": "code",
   "execution_count": 522,
   "id": "baa7918b",
   "metadata": {},
   "outputs": [
    {
     "data": {
      "text/plain": [
       "array([[1., 0., 1.],\n",
       "       [1., 1., 0.],\n",
       "       [0., 1., 1.]])"
      ]
     },
     "execution_count": 522,
     "metadata": {},
     "output_type": "execute_result"
    }
   ],
   "source": [
    "E"
   ]
  },
  {
   "cell_type": "code",
   "execution_count": 597,
   "id": "16f6fec6",
   "metadata": {},
   "outputs": [],
   "source": [
    "def aux_gradF_t(X,Y,S,M_E,E,m0,rho):\n",
    "    n = X.shape[0]\n",
    "    r = X.shape[1]\n",
    "    m = Y.shape[0]\n",
    "    if Y.shape[1] != r:\n",
    "        raise ValueError(\"dimension error from aux_gradF_t\")\n",
    "        return 0\n",
    "    \n",
    "    XS = (X@S)\n",
    "    YS = (Y@(S.T))\n",
    "    XSY = ((XS)@(Y.T))\n",
    "    \n",
    "    \n",
    "    Qx = (((X.T) @ ((M_E - XSY)*E)) @ (YS)/n)\n",
    "    Qy = (((Y.T) @ (((M_E - XSY)*E).T) @ (XS))/m)\n",
    "    \n",
    "    W = (((XSY - M_E)*E)@YS) + (X@Qx) + rho*aux_Gp(X, m0, r)\n",
    "    Z = ((((XSY - M_E)*E).T)@XS) + (Y@Qy) + rho*aux_Gp(Y, m0, r)\n",
    "    \n",
    "    resgrad = {}\n",
    "    resgrad['W'] = W\n",
    "    resgrad['Z'] = Z\n",
    "    \n",
    "    return resgrad"
   ]
  },
  {
   "cell_type": "code",
   "execution_count": 598,
   "id": "34256bf3",
   "metadata": {},
   "outputs": [],
   "source": [
    "dist = np.zeros(niter+1)\n",
    "dist[0] = np.linalg.norm((M_E - ((X)@(S)@(Y.T))*E))/np.sqrt(nnZ_E)"
   ]
  },
  {
   "cell_type": "code",
   "execution_count": 481,
   "id": "765bd96d",
   "metadata": {},
   "outputs": [
    {
     "data": {
      "text/plain": [
       "array([[ 1.09285922,  0.25504118],\n",
       "       [-0.24143482,  0.45049079]])"
      ]
     },
     "execution_count": 481,
     "metadata": {},
     "output_type": "execute_result"
    }
   ],
   "source": [
    "S"
   ]
  },
  {
   "cell_type": "code",
   "execution_count": 562,
   "id": "ee33f599",
   "metadata": {},
   "outputs": [
    {
     "data": {
      "text/plain": [
       "array([[-0.72161684, -0.47922288],\n",
       "       [-0.28566291,  1.66234742],\n",
       "       [-1.54843981, -0.08334563]])"
      ]
     },
     "execution_count": 562,
     "metadata": {},
     "output_type": "execute_result"
    }
   ],
   "source": [
    "X"
   ]
  },
  {
   "cell_type": "code",
   "execution_count": 524,
   "id": "71481acf",
   "metadata": {},
   "outputs": [
    {
     "data": {
      "text/plain": [
       "3"
      ]
     },
     "execution_count": 524,
     "metadata": {},
     "output_type": "execute_result"
    }
   ],
   "source": [
    "n"
   ]
  },
  {
   "cell_type": "code",
   "execution_count": 599,
   "id": "f38b8f66",
   "metadata": {},
   "outputs": [],
   "source": [
    "# compute the gradient\n",
    "tmpgrad = aux_gradF_t(X,Y,S,M_E,E,m0, rho)\n",
    "W = tmpgrad['W']\n",
    "Z = tmpgrad['Z']"
   ]
  },
  {
   "cell_type": "code",
   "execution_count": 600,
   "id": "322c87cd",
   "metadata": {},
   "outputs": [
    {
     "data": {
      "text/plain": [
       "array([[ 0.37782701, -0.08125315],\n",
       "       [ 0.09917488, -0.02132794],\n",
       "       [-0.19437431,  0.04180094]])"
      ]
     },
     "execution_count": 600,
     "metadata": {},
     "output_type": "execute_result"
    }
   ],
   "source": [
    "W"
   ]
  },
  {
   "cell_type": "code",
   "execution_count": 601,
   "id": "eac73104",
   "metadata": {},
   "outputs": [
    {
     "data": {
      "text/plain": [
       "array([[ 0.32656965,  0.0029898 ],\n",
       "       [-0.3012745 , -0.00275822],\n",
       "       [ 0.14668265,  0.00134291]])"
      ]
     },
     "execution_count": 601,
     "metadata": {},
     "output_type": "execute_result"
    }
   ],
   "source": [
    "Z"
   ]
  },
  {
   "cell_type": "markdown",
   "id": "7a92e91b",
   "metadata": {},
   "source": [
    "## Sopt given X & Y"
   ]
  },
  {
   "cell_type": "code",
   "execution_count": 211,
   "id": "2406024c",
   "metadata": {},
   "outputs": [
    {
     "data": {
      "text/plain": [
       "array([[22, 34, 74],\n",
       "       [53, 64, 96]])"
      ]
     },
     "execution_count": 211,
     "metadata": {},
     "output_type": "execute_result"
    }
   ],
   "source": [
    "X"
   ]
  },
  {
   "cell_type": "code",
   "execution_count": 212,
   "id": "5d8cef09",
   "metadata": {},
   "outputs": [
    {
     "data": {
      "text/plain": [
       "array([[3, 4, 7],\n",
       "       [5, 6, 9]])"
      ]
     },
     "execution_count": 212,
     "metadata": {},
     "output_type": "execute_result"
    }
   ],
   "source": [
    "Y"
   ]
  },
  {
   "cell_type": "code",
   "execution_count": 216,
   "id": "ad1b29ed",
   "metadata": {},
   "outputs": [
    {
     "data": {
      "text/plain": [
       "array([22, 53])"
      ]
     },
     "execution_count": 216,
     "metadata": {},
     "output_type": "execute_result"
    }
   ],
   "source": [
    "X[:,0]"
   ]
  },
  {
   "cell_type": "code",
   "execution_count": 217,
   "id": "f5995790",
   "metadata": {},
   "outputs": [
    {
     "data": {
      "text/plain": [
       "array([3, 5])"
      ]
     },
     "execution_count": 217,
     "metadata": {},
     "output_type": "execute_result"
    }
   ],
   "source": [
    "Y[:,0]"
   ]
  },
  {
   "cell_type": "code",
   "execution_count": 218,
   "id": "aef54f1e",
   "metadata": {},
   "outputs": [
    {
     "data": {
      "text/plain": [
       "array([[ 66, 110],\n",
       "       [159, 265]])"
      ]
     },
     "execution_count": 218,
     "metadata": {},
     "output_type": "execute_result"
    }
   ],
   "source": [
    "np.outer(X[:,0],Y[:,0])"
   ]
  },
  {
   "cell_type": "code",
   "execution_count": 234,
   "id": "66f50461",
   "metadata": {},
   "outputs": [
    {
     "data": {
      "text/plain": [
       "6"
      ]
     },
     "execution_count": 234,
     "metadata": {},
     "output_type": "execute_result"
    }
   ],
   "source": [
    "len(X.flatten(order = 'F'))"
   ]
  },
  {
   "cell_type": "code",
   "execution_count": 229,
   "id": "b37659d7",
   "metadata": {},
   "outputs": [
    {
     "data": {
      "text/plain": [
       "(6, 1)"
      ]
     },
     "execution_count": 229,
     "metadata": {},
     "output_type": "execute_result"
    }
   ],
   "source": [
    "np.reshape(X, (-1,1), order = 'F').shape"
   ]
  },
  {
   "cell_type": "code",
   "execution_count": 236,
   "id": "9370e7b0",
   "metadata": {},
   "outputs": [],
   "source": [
    "temp = np.zeros((2,2))\n",
    "temp[:,0] = [1,2]"
   ]
  },
  {
   "cell_type": "code",
   "execution_count": 237,
   "id": "960f7a7c",
   "metadata": {},
   "outputs": [
    {
     "data": {
      "text/plain": [
       "array([[1., 0.],\n",
       "       [2., 0.]])"
      ]
     },
     "execution_count": 237,
     "metadata": {},
     "output_type": "execute_result"
    }
   ],
   "source": [
    "temp"
   ]
  },
  {
   "cell_type": "code",
   "execution_count": 241,
   "id": "7b136a3d",
   "metadata": {},
   "outputs": [
    {
     "data": {
      "text/plain": [
       "matrix([[ 3,  6],\n",
       "        [ 9, 12]])"
      ]
     },
     "execution_count": 241,
     "metadata": {},
     "output_type": "execute_result"
    }
   ],
   "source": [
    "np.matrix([[1,2],[3,4]])*3"
   ]
  },
  {
   "cell_type": "code",
   "execution_count": 405,
   "id": "3d211a1a",
   "metadata": {},
   "outputs": [
    {
     "data": {
      "text/plain": [
       "2"
      ]
     },
     "execution_count": 405,
     "metadata": {},
     "output_type": "execute_result"
    }
   ],
   "source": [
    "r"
   ]
  },
  {
   "cell_type": "code",
   "execution_count": 515,
   "id": "9d3a8f12",
   "metadata": {},
   "outputs": [],
   "source": [
    "def aux_getoptS(X,Y,M_E,E):\n",
    "    n = X.shape[0]\n",
    "    r = X.shape[1]\n",
    "    \n",
    "    C = (X.T)@(M_E)@(Y)\n",
    "    C = np.reshape(C, (-1,1), order = 'F')\n",
    "    \n",
    "    nnrow = X.shape[1]*Y.shape[1]\n",
    "    A = np.zeros((nnrow, r**2))\n",
    "    \n",
    "    for i in range(r):\n",
    "        for j in range(r):\n",
    "            ind = ((j)*r + i + 1)\n",
    "            tmp = np.transpose(X)@(np.outer(X[:,i], Y[:,j])*E)@Y\n",
    "            A[:,ind - 1] = tmp.flatten(order = 'F') # column wise flat karo!!\n",
    "            \n",
    "            \n",
    "    S = np.linalg.solve(A, C)\n",
    "    out = np.reshape(S, (r, int(S.shape[0]*S.shape[1]/r)), order = 'F')\n",
    "    return out"
   ]
  },
  {
   "cell_type": "markdown",
   "id": "5368a4d1",
   "metadata": {},
   "source": [
    "## Optimal Line Search"
   ]
  },
  {
   "cell_type": "code",
   "execution_count": 245,
   "id": "e92526ed",
   "metadata": {},
   "outputs": [
    {
     "data": {
      "text/plain": [
       "152.43687217992897"
      ]
     },
     "execution_count": 245,
     "metadata": {},
     "output_type": "execute_result"
    }
   ],
   "source": [
    "np.linalg.norm(X)"
   ]
  },
  {
   "cell_type": "code",
   "execution_count": 251,
   "id": "330ce68b",
   "metadata": {},
   "outputs": [
    {
     "data": {
      "text/plain": [
       "array([0., 0., 0., 0., 0., 0., 0., 0., 0., 0., 0., 0., 0., 0., 0., 0., 0.,\n",
       "       0., 0., 0., 0.])"
      ]
     },
     "execution_count": 251,
     "metadata": {},
     "output_type": "execute_result"
    }
   ],
   "source": [
    "np.zeros(21)"
   ]
  },
  {
   "cell_type": "code",
   "execution_count": 8,
   "id": "4aa4dd1a",
   "metadata": {},
   "outputs": [],
   "source": [
    "def aux_getoptT(X,W,Y,Z,S,M_E,E,m0,rho):\n",
    "    norm2WZ = (np.linalg.norm(W)**2) + (np.linalg.norm(Z)**2)\n",
    "    f = np.zeros(21)\n",
    "    f[0] = aux_F_t(X,Y,S,M_E,E,m0,rho)\n",
    "    t = -1e-1\n",
    "    for i in range(20):\n",
    "        f[i+1] = aux_F_t(X+t*W,Y+t*Z,S,M_E,E,m0,rho)\n",
    "        if((f[i+1]-f[i]) <= 0.5*t*norm2WZ):\n",
    "            out = t\n",
    "            break\n",
    "        t = t/2\n",
    "    out = t\n",
    "    return out"
   ]
  },
  {
   "cell_type": "code",
   "execution_count": 670,
   "id": "1735b6cc",
   "metadata": {},
   "outputs": [],
   "source": [
    "# line search for the optimum jump length\n",
    "t = aux_getoptT(X, W, Y, Z, S, M_E, E, m0, rho)\n",
    "X = X + t*W\n",
    "Y = Y + t*Z\n",
    "S = aux_getoptS(X, Y, M_E, E)"
   ]
  },
  {
   "cell_type": "code",
   "execution_count": 673,
   "id": "4e894493",
   "metadata": {},
   "outputs": [
    {
     "data": {
      "text/plain": [
       "array([[-0.79718231, -0.46297224],\n",
       "       [-0.3054979 ,  1.66661301],\n",
       "       [-1.50956491, -0.09170583]])"
      ]
     },
     "execution_count": 673,
     "metadata": {},
     "output_type": "execute_result"
    }
   ],
   "source": [
    "X"
   ]
  },
  {
   "cell_type": "code",
   "execution_count": 672,
   "id": "75db243c",
   "metadata": {},
   "outputs": [
    {
     "data": {
      "text/plain": [
       "array([[-0.27036244,  1.22274139],\n",
       "       [-0.86718774,  0.94716529],\n",
       "       [-1.47771675, -0.77960383]])"
      ]
     },
     "execution_count": 672,
     "metadata": {},
     "output_type": "execute_result"
    }
   ],
   "source": [
    "Y"
   ]
  },
  {
   "cell_type": "code",
   "execution_count": 633,
   "id": "4ca4fe64",
   "metadata": {},
   "outputs": [
    {
     "data": {
      "text/plain": [
       "-0.1"
      ]
     },
     "execution_count": 633,
     "metadata": {},
     "output_type": "execute_result"
    }
   ],
   "source": [
    "t"
   ]
  },
  {
   "cell_type": "code",
   "execution_count": 671,
   "id": "2e35377e",
   "metadata": {},
   "outputs": [
    {
     "data": {
      "text/plain": [
       "array([[ 1.11357722, -0.28413644],\n",
       "       [ 0.23232554,  0.42990407]])"
      ]
     },
     "execution_count": 671,
     "metadata": {},
     "output_type": "execute_result"
    }
   ],
   "source": [
    "S"
   ]
  },
  {
   "cell_type": "markdown",
   "id": "8f8d4a31",
   "metadata": {},
   "source": [
    "## OptSpace"
   ]
  },
  {
   "cell_type": "code",
   "execution_count": 638,
   "id": "59cc23e8",
   "metadata": {},
   "outputs": [],
   "source": [
    "niter = 50"
   ]
  },
  {
   "cell_type": "code",
   "execution_count": 674,
   "id": "20c59a7f",
   "metadata": {},
   "outputs": [],
   "source": [
    "A = np.array([[2, np.nan, 6, np.nan], [4, 3, np.nan, np.nan], [np.nan, 7, 9, 4], [np.nan, np.nan, 12, 45]])"
   ]
  },
  {
   "cell_type": "code",
   "execution_count": 675,
   "id": "81bee849",
   "metadata": {},
   "outputs": [
    {
     "data": {
      "text/plain": [
       "array([[ 2., nan,  6., nan],\n",
       "       [ 4.,  3., nan, nan],\n",
       "       [nan,  7.,  9.,  4.],\n",
       "       [nan, nan, 12., 45.]])"
      ]
     },
     "execution_count": 675,
     "metadata": {},
     "output_type": "execute_result"
    }
   ],
   "source": [
    "A"
   ]
  },
  {
   "cell_type": "code",
   "execution_count": 276,
   "id": "700d7b08",
   "metadata": {},
   "outputs": [],
   "source": [
    "idxna = np.isnan(A)\n",
    "M_E = np.zeros((A.shape[0], A.shape[1]))\n",
    "M_E[idxna == False] = A[idxna == False]"
   ]
  },
  {
   "cell_type": "code",
   "execution_count": 277,
   "id": "97c7152b",
   "metadata": {},
   "outputs": [
    {
     "data": {
      "text/plain": [
       "array([[2., 0., 6.],\n",
       "       [4., 3., 0.],\n",
       "       [0., 7., 9.]])"
      ]
     },
     "execution_count": 277,
     "metadata": {},
     "output_type": "execute_result"
    }
   ],
   "source": [
    "M_E"
   ]
  },
  {
   "cell_type": "code",
   "execution_count": 288,
   "id": "a9aa6f37",
   "metadata": {},
   "outputs": [],
   "source": [
    "n = A.shape[0]\n",
    "m = A.shape[1]"
   ]
  },
  {
   "cell_type": "code",
   "execution_count": 297,
   "id": "e731f85b",
   "metadata": {},
   "outputs": [],
   "source": [
    "nnZ_E = np.sum(idxna == False)\n",
    "E = np.zeros((A.shape[0], A.shape[1]))\n",
    "E[idxna == False] = 1\n",
    "eps = nnZ_E/np.sqrt(m*n)"
   ]
  },
  {
   "cell_type": "code",
   "execution_count": 281,
   "id": "05210f6c",
   "metadata": {},
   "outputs": [
    {
     "data": {
      "text/plain": [
       "array([[False,  True, False],\n",
       "       [False, False,  True],\n",
       "       [ True, False, False]])"
      ]
     },
     "execution_count": 281,
     "metadata": {},
     "output_type": "execute_result"
    }
   ],
   "source": [
    "idxna"
   ]
  },
  {
   "cell_type": "code",
   "execution_count": 298,
   "id": "0b5ffe10",
   "metadata": {},
   "outputs": [
    {
     "data": {
      "text/plain": [
       "6"
      ]
     },
     "execution_count": 298,
     "metadata": {},
     "output_type": "execute_result"
    }
   ],
   "source": [
    "nnZ_E"
   ]
  },
  {
   "cell_type": "code",
   "execution_count": 324,
   "id": "ec6ed407",
   "metadata": {},
   "outputs": [
    {
     "data": {
      "text/plain": [
       "array([[1., 0., 1.],\n",
       "       [1., 1., 0.],\n",
       "       [0., 1., 1.]])"
      ]
     },
     "execution_count": 324,
     "metadata": {},
     "output_type": "execute_result"
    }
   ],
   "source": [
    "E"
   ]
  },
  {
   "cell_type": "code",
   "execution_count": 290,
   "id": "30ccd7eb",
   "metadata": {},
   "outputs": [
    {
     "data": {
      "text/plain": [
       "2.0"
      ]
     },
     "execution_count": 290,
     "metadata": {},
     "output_type": "execute_result"
    }
   ],
   "source": [
    "eps"
   ]
  },
  {
   "cell_type": "code",
   "execution_count": 293,
   "id": "98975eb2",
   "metadata": {},
   "outputs": [
    {
     "data": {
      "text/plain": [
       "True"
      ]
     },
     "execution_count": 293,
     "metadata": {},
     "output_type": "execute_result"
    }
   ],
   "source": [
    "str(3).isnumeric()"
   ]
  },
  {
   "cell_type": "code",
   "execution_count": 301,
   "id": "6b11f1d0",
   "metadata": {},
   "outputs": [
    {
     "data": {
      "text/plain": [
       "1"
      ]
     },
     "execution_count": 301,
     "metadata": {},
     "output_type": "execute_result"
    }
   ],
   "source": [
    "guess_rank(M_E, nnZ_E)[0]"
   ]
  },
  {
   "cell_type": "code",
   "execution_count": 302,
   "id": "5cc07b95",
   "metadata": {},
   "outputs": [],
   "source": [
    " r = min(max(round(guess_rank(M_E, nnZ_E)[0]), 2), m - 1)"
   ]
  },
  {
   "cell_type": "code",
   "execution_count": 303,
   "id": "7be2e215",
   "metadata": {},
   "outputs": [
    {
     "data": {
      "text/plain": [
       "2"
      ]
     },
     "execution_count": 303,
     "metadata": {},
     "output_type": "execute_result"
    }
   ],
   "source": [
    "r"
   ]
  },
  {
   "cell_type": "code",
   "execution_count": 304,
   "id": "43bc9903",
   "metadata": {},
   "outputs": [
    {
     "data": {
      "text/plain": [
       "False"
      ]
     },
     "execution_count": 304,
     "metadata": {},
     "output_type": "execute_result"
    }
   ],
   "source": [
    "np.isinf(50)"
   ]
  },
  {
   "cell_type": "code",
   "execution_count": 318,
   "id": "ddd4e1f6",
   "metadata": {},
   "outputs": [],
   "source": [
    "if((np.isinf(niter)) | (niter <= 1) | (str(niter).isnumeric() == False)):\n",
    "        raise ValueError(\"OptSpace: invalid niter number\")"
   ]
  },
  {
   "cell_type": "code",
   "execution_count": 319,
   "id": "a76750b1",
   "metadata": {},
   "outputs": [],
   "source": [
    "niter = round(niter)\n",
    "m0 = 1e4\n",
    "rho = 0"
   ]
  },
  {
   "cell_type": "code",
   "execution_count": 320,
   "id": "2772c517",
   "metadata": {},
   "outputs": [],
   "source": [
    "rescale_param = np.sqrt(nnZ_E*r/(np.linalg.norm(M_E)**2))\n",
    "M_E = M_E*rescale_param"
   ]
  },
  {
   "cell_type": "code",
   "execution_count": 321,
   "id": "d87c7b12",
   "metadata": {},
   "outputs": [
    {
     "data": {
      "text/plain": [
       "0.2480694691784169"
      ]
     },
     "execution_count": 321,
     "metadata": {},
     "output_type": "execute_result"
    }
   ],
   "source": [
    "rescale_param"
   ]
  },
  {
   "cell_type": "code",
   "execution_count": 322,
   "id": "7f94bd52",
   "metadata": {},
   "outputs": [
    {
     "data": {
      "text/plain": [
       "array([[0.49613894, 0.        , 1.48841682],\n",
       "       [0.99227788, 0.74420841, 0.        ],\n",
       "       [0.        , 1.73648628, 2.23262522]])"
      ]
     },
     "execution_count": 322,
     "metadata": {},
     "output_type": "execute_result"
    }
   ],
   "source": [
    "M_E"
   ]
  },
  {
   "cell_type": "code",
   "execution_count": 329,
   "id": "d5e7790d",
   "metadata": {},
   "outputs": [],
   "source": [
    "M_Et = M_E\n",
    "d = np.sum(E, axis = 0) ## this is colSums\n",
    "d_ = np.mean(d)"
   ]
  },
  {
   "cell_type": "code",
   "execution_count": 331,
   "id": "2259cec2",
   "metadata": {},
   "outputs": [
    {
     "data": {
      "text/plain": [
       "array([2., 2., 2.])"
      ]
     },
     "execution_count": 331,
     "metadata": {},
     "output_type": "execute_result"
    }
   ],
   "source": [
    "d"
   ]
  },
  {
   "cell_type": "code",
   "execution_count": 330,
   "id": "eaeb6bd7",
   "metadata": {},
   "outputs": [
    {
     "data": {
      "text/plain": [
       "2.0"
      ]
     },
     "execution_count": 330,
     "metadata": {},
     "output_type": "execute_result"
    }
   ],
   "source": [
    "d_"
   ]
  },
  {
   "cell_type": "code",
   "execution_count": 334,
   "id": "de7e745a",
   "metadata": {},
   "outputs": [
    {
     "data": {
      "text/plain": [
       "1.4884168150705015"
      ]
     },
     "execution_count": 334,
     "metadata": {},
     "output_type": "execute_result"
    }
   ],
   "source": [
    "np.sum(M_E[:,0])"
   ]
  },
  {
   "cell_type": "code",
   "execution_count": 346,
   "id": "88981284",
   "metadata": {},
   "outputs": [
    {
     "data": {
      "text/plain": [
       "array([0, 1], dtype=int64)"
      ]
     },
     "execution_count": 346,
     "metadata": {},
     "output_type": "execute_result"
    }
   ],
   "source": [
    "np.where(M_E[:,0]>0)[0]"
   ]
  },
  {
   "cell_type": "code",
   "execution_count": 359,
   "id": "071da0e4",
   "metadata": {},
   "outputs": [
    {
     "data": {
      "text/plain": [
       "[0, 1]"
      ]
     },
     "execution_count": 359,
     "metadata": {},
     "output_type": "execute_result"
    }
   ],
   "source": [
    "import random\n",
    "random.sample(range(2), 2)"
   ]
  },
  {
   "cell_type": "code",
   "execution_count": 368,
   "id": "4603b054",
   "metadata": {},
   "outputs": [],
   "source": [
    "M_Et = M_E\n",
    "d = np.sum(E, axis = 0)\n",
    "d_ = np.mean(d)\n",
    "for col in range(m):\n",
    "    if(np.sum(E[:,col]) > (2*d_)):\n",
    "        listed = np.where(E[:,col] > 0)[0]\n",
    "        p = rm.sample(range(len(listed)), len(listed))\n",
    "        M_Et[listed[p[np.ceil(2*d_)]]:n, col] = 0"
   ]
  },
  {
   "cell_type": "code",
   "execution_count": 370,
   "id": "6582f6d8",
   "metadata": {},
   "outputs": [
    {
     "data": {
      "text/plain": [
       "array([[0.49613894, 0.        , 1.48841682],\n",
       "       [0.99227788, 0.74420841, 0.        ],\n",
       "       [0.        , 1.73648628, 2.23262522]])"
      ]
     },
     "execution_count": 370,
     "metadata": {},
     "output_type": "execute_result"
    }
   ],
   "source": [
    "M_Et"
   ]
  },
  {
   "cell_type": "code",
   "execution_count": 367,
   "id": "b09fc6c5",
   "metadata": {},
   "outputs": [
    {
     "data": {
      "text/plain": [
       "array([1.98455575, 1.73648628, 3.96911151])"
      ]
     },
     "execution_count": 367,
     "metadata": {},
     "output_type": "execute_result"
    }
   ],
   "source": [
    "np.sum(M_Et, axis = 1) ## this is rowSums"
   ]
  },
  {
   "cell_type": "code",
   "execution_count": 369,
   "id": "9e3047f9",
   "metadata": {},
   "outputs": [],
   "source": [
    "d = np.sum(E, axis = 1)\n",
    "d_ = np.mean(d)\n",
    "for row in range(n):\n",
    "    if(np.sum(E[row,:]) > (2*d_)):\n",
    "        listed = np.where(E[row,:] > 0)[0]\n",
    "        p = rm.sample(range(len(listed)), len(listed))\n",
    "        M_Et[row, listed[p[np.ceil(2*d_)]]:m] = 0"
   ]
  },
  {
   "cell_type": "code",
   "execution_count": 374,
   "id": "dd6c89ac",
   "metadata": {},
   "outputs": [
    {
     "name": "stdout",
     "output_type": "stream",
     "text": [
      "Its working\n"
     ]
    }
   ],
   "source": [
    "temp = True\n",
    "if(temp):\n",
    "    print(\"Its working\")"
   ]
  },
  {
   "cell_type": "code",
   "execution_count": 397,
   "id": "c063ae92",
   "metadata": {},
   "outputs": [],
   "source": [
    "svdEt = np.linalg.svd(M_Et)\n",
    "X0 = svdEt[0][:,0:r]\n",
    "S0 = np.diag(svdEt[1][0:r])\n",
    "Y0 = svdEt[2][0:r,:].T"
   ]
  },
  {
   "cell_type": "code",
   "execution_count": 391,
   "id": "9f3c1709",
   "metadata": {},
   "outputs": [
    {
     "data": {
      "text/plain": [
       "array([[-0.41662567, -0.27667946],\n",
       "       [-0.16492756,  0.95975673],\n",
       "       [-0.89399214, -0.04811962]])"
      ]
     },
     "execution_count": 391,
     "metadata": {},
     "output_type": "execute_result"
    }
   ],
   "source": [
    "X0"
   ]
  },
  {
   "cell_type": "code",
   "execution_count": 392,
   "id": "ab843050",
   "metadata": {},
   "outputs": [
    {
     "data": {
      "text/plain": [
       "array([[3.12842749, 0.        ],\n",
       "       [0.        , 1.15401293]])"
      ]
     },
     "execution_count": 392,
     "metadata": {},
     "output_type": "execute_result"
    }
   ],
   "source": [
    "S0"
   ]
  },
  {
   "cell_type": "code",
   "execution_count": 394,
   "id": "1a921ca2",
   "metadata": {},
   "outputs": [
    {
     "data": {
      "text/plain": [
       "(array([[-0.41662567, -0.27667946,  0.86595122],\n",
       "        [-0.16492756,  0.95975673,  0.22730139],\n",
       "        [-0.89399214, -0.04811962, -0.44549136]]),\n",
       " array([3.12842749, 1.15401293, 0.93872019]),\n",
       " array([[-0.11838478, -0.53545929, -0.83622269],\n",
       "        [ 0.70629531,  0.54652764, -0.44994942],\n",
       "        [ 0.69794841, -0.64388732,  0.31349183]]))"
      ]
     },
     "execution_count": 394,
     "metadata": {},
     "output_type": "execute_result"
    }
   ],
   "source": [
    "svdEt"
   ]
  },
  {
   "cell_type": "code",
   "execution_count": 398,
   "id": "56df18e1",
   "metadata": {},
   "outputs": [
    {
     "data": {
      "text/plain": [
       "array([[-0.11838478,  0.70629531],\n",
       "       [-0.53545929,  0.54652764],\n",
       "       [-0.83622269, -0.44994942]])"
      ]
     },
     "execution_count": 398,
     "metadata": {},
     "output_type": "execute_result"
    }
   ],
   "source": [
    "Y0"
   ]
  },
  {
   "cell_type": "code",
   "execution_count": 399,
   "id": "ff546475",
   "metadata": {},
   "outputs": [],
   "source": [
    "X0 = X0*np.sqrt(n)\n",
    "Y0 = Y0*np.sqrt(m)\n",
    "S0 = S0/eps"
   ]
  },
  {
   "cell_type": "code",
   "execution_count": 400,
   "id": "3a54ee53",
   "metadata": {},
   "outputs": [
    {
     "data": {
      "text/plain": [
       "array([[-0.72161684, -0.47922288],\n",
       "       [-0.28566291,  1.66234742],\n",
       "       [-1.54843981, -0.08334563]])"
      ]
     },
     "execution_count": 400,
     "metadata": {},
     "output_type": "execute_result"
    }
   ],
   "source": [
    "X0"
   ]
  },
  {
   "cell_type": "code",
   "execution_count": 401,
   "id": "4b22a8be",
   "metadata": {},
   "outputs": [
    {
     "data": {
      "text/plain": [
       "array([[-0.20504845,  1.22333936],\n",
       "       [-0.9274427 ,  0.94661364],\n",
       "       [-1.44838019, -0.77933525]])"
      ]
     },
     "execution_count": 401,
     "metadata": {},
     "output_type": "execute_result"
    }
   ],
   "source": [
    "Y0"
   ]
  },
  {
   "cell_type": "code",
   "execution_count": 402,
   "id": "8f53ae58",
   "metadata": {},
   "outputs": [
    {
     "data": {
      "text/plain": [
       "array([[1.56421375, 0.        ],\n",
       "       [0.        , 0.57700646]])"
      ]
     },
     "execution_count": 402,
     "metadata": {},
     "output_type": "execute_result"
    }
   ],
   "source": [
    "S0"
   ]
  },
  {
   "cell_type": "code",
   "execution_count": 514,
   "id": "69fc3396",
   "metadata": {},
   "outputs": [
    {
     "data": {
      "text/plain": [
       "array([[ 1.09285922, -0.24143482],\n",
       "       [ 0.25504118,  0.45049079]])"
      ]
     },
     "execution_count": 514,
     "metadata": {},
     "output_type": "execute_result"
    }
   ],
   "source": [
    "S.T"
   ]
  },
  {
   "cell_type": "code",
   "execution_count": 516,
   "id": "5ef18952",
   "metadata": {},
   "outputs": [],
   "source": [
    "X = X0\n",
    "Y = Y0\n",
    "S = aux_getoptS(X, Y, M_E, E)"
   ]
  },
  {
   "cell_type": "code",
   "execution_count": 517,
   "id": "d41d7de8",
   "metadata": {},
   "outputs": [
    {
     "data": {
      "text/plain": [
       "array([[ 1.09285922, -0.24143482],\n",
       "       [ 0.25504118,  0.45049079]])"
      ]
     },
     "execution_count": 517,
     "metadata": {},
     "output_type": "execute_result"
    }
   ],
   "source": [
    "S"
   ]
  },
  {
   "cell_type": "code",
   "execution_count": 458,
   "id": "d5a4530d",
   "metadata": {},
   "outputs": [
    {
     "data": {
      "text/plain": [
       "array([[ 1.09285922,  0.25504118],\n",
       "       [-0.24143482,  0.45049079]])"
      ]
     },
     "execution_count": 458,
     "metadata": {},
     "output_type": "execute_result"
    }
   ],
   "source": [
    "S.shape[0]"
   ]
  },
  {
   "cell_type": "code",
   "execution_count": 449,
   "id": "d5c67daf",
   "metadata": {},
   "outputs": [
    {
     "data": {
      "text/plain": [
       "array([[ 1.09285922],\n",
       "       [ 0.25504118],\n",
       "       [-0.24143482],\n",
       "       [ 0.45049079]])"
      ]
     },
     "execution_count": 449,
     "metadata": {},
     "output_type": "execute_result"
    }
   ],
   "source": [
    "S"
   ]
  },
  {
   "cell_type": "code",
   "execution_count": 412,
   "id": "e026c5d9",
   "metadata": {},
   "outputs": [
    {
     "data": {
      "text/plain": [
       "array([[-0.72161684, -0.28566291, -1.54843981],\n",
       "       [-0.47922288,  1.66234742, -0.08334563]])"
      ]
     },
     "execution_count": 412,
     "metadata": {},
     "output_type": "execute_result"
    }
   ],
   "source": [
    "X.T"
   ]
  },
  {
   "cell_type": "code",
   "execution_count": 413,
   "id": "cdd09fc0",
   "metadata": {},
   "outputs": [
    {
     "data": {
      "text/plain": [
       "array([[0.49613894, 0.        , 1.48841682],\n",
       "       [0.99227788, 0.74420841, 0.        ],\n",
       "       [0.        , 1.73648628, 2.23262522]])"
      ]
     },
     "execution_count": 413,
     "metadata": {},
     "output_type": "execute_result"
    }
   ],
   "source": [
    "M_E"
   ]
  },
  {
   "cell_type": "code",
   "execution_count": 422,
   "id": "35e726a3",
   "metadata": {},
   "outputs": [
    {
     "data": {
      "text/plain": [
       "array([[-0.20504845,  1.22333936],\n",
       "       [-0.9274427 ,  0.94661364],\n",
       "       [-1.44838019, -0.77933525]])"
      ]
     },
     "execution_count": 422,
     "metadata": {},
     "output_type": "execute_result"
    }
   ],
   "source": [
    "Y"
   ]
  },
  {
   "cell_type": "code",
   "execution_count": 426,
   "id": "9fb791e8",
   "metadata": {},
   "outputs": [
    {
     "data": {
      "text/plain": [
       "array([[-0.64147919, -2.90143723, -4.53115241],\n",
       "       [ 1.41174943,  1.09240438, -0.89936296]])"
      ]
     },
     "execution_count": 426,
     "metadata": {},
     "output_type": "execute_result"
    }
   ],
   "source": [
    "(X.T)@(M_E)"
   ]
  },
  {
   "cell_type": "code",
   "execution_count": 434,
   "id": "d97fe976",
   "metadata": {},
   "outputs": [
    {
     "data": {
      "text/plain": [
       "array([[ 9.38528247e+00, -1.03278295e-15],\n",
       "       [-8.60056673e-16,  3.46203878e+00]])"
      ]
     },
     "execution_count": 434,
     "metadata": {},
     "output_type": "execute_result"
    }
   ],
   "source": [
    "(np.X.T)@(M_E)@(Y)"
   ]
  },
  {
   "cell_type": "code",
   "execution_count": 466,
   "id": "a157a617",
   "metadata": {},
   "outputs": [
    {
     "name": "stdout",
     "output_type": "stream",
     "text": [
      "1\n",
      "2\n",
      "3\n",
      "4\n"
     ]
    }
   ],
   "source": [
    "for i in range(1,5):\n",
    "    print(i)"
   ]
  },
  {
   "cell_type": "code",
   "execution_count": 469,
   "id": "2abc677b",
   "metadata": {},
   "outputs": [],
   "source": [
    "temp = [1,2,3,4,5]"
   ]
  },
  {
   "cell_type": "code",
   "execution_count": 470,
   "id": "a1cf01cf",
   "metadata": {},
   "outputs": [],
   "source": [
    "temp = temp[1:5]"
   ]
  },
  {
   "cell_type": "code",
   "execution_count": 471,
   "id": "d16d734b",
   "metadata": {},
   "outputs": [
    {
     "data": {
      "text/plain": [
       "[2, 3, 4, 5]"
      ]
     },
     "execution_count": 471,
     "metadata": {},
     "output_type": "execute_result"
    }
   ],
   "source": [
    "temp"
   ]
  },
  {
   "cell_type": "code",
   "execution_count": 655,
   "id": "05ea1eeb",
   "metadata": {},
   "outputs": [],
   "source": [
    "dist[i+1] = np.linalg.norm((M_E - X@S@(Y.T))*E)/np.sqrt(nnZ_E)"
   ]
  },
  {
   "cell_type": "code",
   "execution_count": 657,
   "id": "6eb03a38",
   "metadata": {},
   "outputs": [
    {
     "data": {
      "text/plain": [
       "0.09335584211579384"
      ]
     },
     "execution_count": 657,
     "metadata": {},
     "output_type": "execute_result"
    }
   ],
   "source": [
    "dist[5]"
   ]
  },
  {
   "cell_type": "code",
   "execution_count": 676,
   "id": "63c05cfc",
   "metadata": {},
   "outputs": [],
   "source": [
    "def OptSpace(A, ropt = None, niter = 50, tol = 1e-6, showprogress = True):\n",
    "    import random as rd\n",
    "    ## Preprocessing: A is a partially revealed matrix\n",
    "    if(A.ndim != 2):\n",
    "        raise ValueError(\"Optspace: input A should be a 2-d array\")\n",
    "    if(np.isinf(A).any()):\n",
    "        raise ValueError(\"OptSpace: no infinite value in A is allowed\")\n",
    "    if(np.isnan(A).any() == False):\n",
    "        raise ValueError(\"OptSpace: there is no unobserved values as NA\")\n",
    "        \n",
    "    idxna = np.isnan(A)\n",
    "    M_E = np.zeros((A.shape[0], A.shape[1]))\n",
    "    M_E[idxna == False] = A[idxna == False] # replacing the null values in A with 0 in M_E\n",
    "    \n",
    "    ## Preprocessing: size info\n",
    "    n = A.shape[0]\n",
    "    m = A.shape[1]\n",
    "    \n",
    "    ## preprocessing: other sparse-related concepts\n",
    "    nnz_E = np.sum(idxna == False)\n",
    "    E = np.zeros((A.shape[0], A.shape[1]))\n",
    "    E[idxna == False] = 1  # replacing the null values in A with 0 in E\n",
    "    eps = nnz_E/np.sqrt(m*n)\n",
    "    \n",
    "    ## Preprocessing: ropt: implied rank\n",
    "    if(ropt == None):\n",
    "        if(showprogress):\n",
    "            print(\"OptSpace: Guessing an implicit rank...\")\n",
    "        r = min(max(round(guess_rank(M_E, nnZ_E)[0]), 2), m - 1)\n",
    "        if(showprogress):\n",
    "            print(\"OptSpace: Estimated rank: \", r)\n",
    "    else:\n",
    "        r = round(ropt)\n",
    "        if((str(r).isnumeric()) | (r < 1) | (r > m) | (r > n)):\n",
    "            raise ValueError(\"OptSPace: ropt should be an interger in {}\".format([1, min(A.shape[0], A.shape[1])]))\n",
    "    \n",
    "    ## Preprocessing: niter: maximum number of iterations\n",
    "    if((np.isinf(niter)) | (niter <= 1) | (str(niter).isnumeric() == False)):\n",
    "        raise ValueError(\"OptSpace: invalid niter number\")\n",
    "        \n",
    "    niter = round(niter)\n",
    "    m0 = 1e4\n",
    "    rho = 0\n",
    "    \n",
    "    ## Main Computation\n",
    "    rescale_param = np.sqrt(nnZ_E*r/(np.linalg.norm(M_E)**2))\n",
    "    M_E = M_E*rescale_param\n",
    "    \n",
    "    ## 1. Trimming\n",
    "    if(showprogress):\n",
    "        print(\"OptSpace: Step 1: Trimming...\")\n",
    "    \n",
    "    M_Et = M_E\n",
    "    \n",
    "    d = np.sum(E, axis = 0)\n",
    "    d_ = np.mean(d)\n",
    "    for col in range(m):\n",
    "        if(np.sum(E[:,col]) > (2*d_)):\n",
    "            listed = np.where(E[:,col] > 0)[0]\n",
    "            p = rm.sample(range(len(listed)), len(listed))\n",
    "            M_Et[listed[p[np.ceil(2*d_)]]:n, col] = 0\n",
    "            \n",
    "    d = np.sum(E, axis = 1)\n",
    "    d_ = np.mean(d)\n",
    "    for row in range(n):\n",
    "        if(np.sum(E[row,:]) > (2*d_)):\n",
    "            listed = np.where(E[row,:] > 0)[0]\n",
    "            p = rm.sample(range(len(listed)), len(listed))\n",
    "            M_Et[row, listed[p[np.ceil(2*d_)]]:m] = 0\n",
    "            \n",
    "            \n",
    "    ## 2. SVD\n",
    "    if(showprogress):\n",
    "        print(\"OptSpace: Step 2: SVD...\")\n",
    "    \n",
    "    svdEt = np.linalg.svd(M_Et)\n",
    "    X0 = svdEt[0][:,1:r]\n",
    "    S0 = np.diag(svdEt[1][1:r])\n",
    "    Y0 = svdEt[2][:,1:r]\n",
    "    \n",
    "    \n",
    "    ## 3. Initial Guess\n",
    "    if(showprogress):\n",
    "        print(\"OptSpace: Step 3: Initial Guess...\")\n",
    "        \n",
    "    X0 = X0*np.sqrt(n)\n",
    "    Y0 = Y0*np.sqrt(m)\n",
    "    S0 = S0/eps\n",
    "    \n",
    "    \n",
    "    ## 4. Gradient Descent\n",
    "    if(showprogress):\n",
    "        print(\"OptSpace: Step 4: Gradient Descent...\")\n",
    "        \n",
    "    X = X0\n",
    "    Y = Y0\n",
    "    S = aux_getoptS(X, Y, M_E, E)\n",
    "    \n",
    "    \n",
    "    # initialize\n",
    "    dist = np.zeros(niter+1)\n",
    "    dist[0] = np.linalg.norm((M_E - ((X)@(S)@(Y.T))*E))/np.sqrt(nnZ_E)\n",
    "    for i in range(niter):\n",
    "        # compute the gradient\n",
    "        tmpgrad = aux_gradF_t(X, Y, S, M_E, E, m0, rho)\n",
    "        W = tmpgrad['W']\n",
    "        Z = tmpgrad['Z']\n",
    "        \n",
    "        # line search for the optimum jump length\n",
    "        t = aux_getoptT(X, W, Y, Z, S, M_E, E, m0, rho)\n",
    "        X = X + t*W\n",
    "        Y = Y + t*Z\n",
    "        S = aux_getoptS(X, Y, M_E, E)\n",
    "        \n",
    "        # compute distortion\n",
    "        dist[i+1] = np.linalg.norm((M_E - X@S@(Y.T))*E)/np.sqrt(nnZ_E)\n",
    "        if(showprogress):\n",
    "            pmsg = print(\"OptSpace: Step 4: Iteration {}: distortion: {}\".format(i, dist[i+1]))\n",
    "          \n",
    "        \n",
    "        if(dist[i+1] < tol):\n",
    "            dist = dist[1:(i+1)]\n",
    "            break\n",
    "            \n",
    "        #print(dist)\n",
    "        \n",
    "    S = S/rescale_param\n",
    "            \n",
    "     # Return Results\n",
    "    out = dict()\n",
    "    out['X'] = X\n",
    "    out['S'] = S\n",
    "    out['Y'] = Y\n",
    "    out['dist'] = dist\n",
    "    \n",
    "    if(showprogress):\n",
    "        print(\"OptSpace: estimation finished.\")\n",
    "    \n",
    "    return out"
   ]
  },
  {
   "cell_type": "code",
   "execution_count": 4,
   "id": "9c3351c3",
   "metadata": {},
   "outputs": [],
   "source": [
    "A = np.array([[2, np.nan, 6], [4, 3, np.nan], [np.nan, 7, 9], [np.nan, np.nan, 12]])"
   ]
  },
  {
   "cell_type": "code",
   "execution_count": 3,
   "id": "8974c804",
   "metadata": {},
   "outputs": [
    {
     "data": {
      "text/plain": [
       "array([[ 2., nan,  6.],\n",
       "       [ 4.,  3., nan],\n",
       "       [nan,  7.,  9.],\n",
       "       [nan, nan, 12.]])"
      ]
     },
     "execution_count": 3,
     "metadata": {},
     "output_type": "execute_result"
    }
   ],
   "source": [
    "A"
   ]
  },
  {
   "cell_type": "code",
   "execution_count": 687,
   "id": "11efbcba",
   "metadata": {},
   "outputs": [
    {
     "name": "stdout",
     "output_type": "stream",
     "text": [
      "OptSpace: Guessing an implicit rank...\n",
      "OptSpace: Estimated rank:  2\n",
      "OptSpace: Step 1: Trimming...\n",
      "OptSpace: Step 2: SVD...\n",
      "OptSpace: Step 3: Initial Guess...\n",
      "OptSpace: Step 4: Gradient Descent...\n",
      "OptSpace: Step 4: Iteration 0: distortion: 1.313954032267814\n",
      "OptSpace: Step 4: Iteration 1: distortion: 1.3033305782679536\n",
      "OptSpace: Step 4: Iteration 2: distortion: 1.2913198086428026\n",
      "OptSpace: Step 4: Iteration 3: distortion: 1.2772702682004025\n",
      "OptSpace: Step 4: Iteration 4: distortion: 1.2601967803197158\n",
      "OptSpace: Step 4: Iteration 5: distortion: 1.238641610798357\n",
      "OptSpace: Step 4: Iteration 6: distortion: 1.2105616966216968\n",
      "OptSpace: Step 4: Iteration 7: distortion: 1.173499382586156\n",
      "OptSpace: Step 4: Iteration 8: distortion: 1.125756195680379\n",
      "OptSpace: Step 4: Iteration 9: distortion: 1.0695282709956804\n",
      "OptSpace: Step 4: Iteration 10: distortion: 1.014294112178106\n",
      "OptSpace: Step 4: Iteration 11: distortion: 0.9728943274295448\n",
      "OptSpace: Step 4: Iteration 12: distortion: 0.9499085291371481\n",
      "OptSpace: Step 4: Iteration 13: distortion: 0.9395067094183794\n",
      "OptSpace: Step 4: Iteration 14: distortion: 0.9344520884527764\n",
      "OptSpace: Step 4: Iteration 15: distortion: 0.9308310316350036\n",
      "OptSpace: Step 4: Iteration 16: distortion: 0.9271031044698097\n",
      "OptSpace: Step 4: Iteration 17: distortion: 0.9226246047290655\n",
      "OptSpace: Step 4: Iteration 18: distortion: 0.9169754216235435\n",
      "OptSpace: Step 4: Iteration 19: distortion: 0.9097284349533705\n",
      "OptSpace: Step 4: Iteration 20: distortion: 0.9003862182068995\n",
      "OptSpace: Step 4: Iteration 21: distortion: 0.9003862074951952\n",
      "OptSpace: Step 4: Iteration 22: distortion: 0.900386196783488\n",
      "OptSpace: Step 4: Iteration 23: distortion: 0.9003861860717782\n",
      "OptSpace: Step 4: Iteration 24: distortion: 0.9003861753600656\n",
      "OptSpace: Step 4: Iteration 25: distortion: 0.9003861646483504\n",
      "OptSpace: Step 4: Iteration 26: distortion: 0.9003861539366323\n",
      "OptSpace: Step 4: Iteration 27: distortion: 0.9003861432249115\n",
      "OptSpace: Step 4: Iteration 28: distortion: 0.9003861325131882\n",
      "OptSpace: Step 4: Iteration 29: distortion: 0.9003861218014619\n",
      "OptSpace: Step 4: Iteration 30: distortion: 0.9003861110897328\n",
      "OptSpace: Step 4: Iteration 31: distortion: 0.9003861003780012\n",
      "OptSpace: Step 4: Iteration 32: distortion: 0.9003860896662668\n",
      "OptSpace: Step 4: Iteration 33: distortion: 0.9003860789545296\n",
      "OptSpace: Step 4: Iteration 34: distortion: 0.9003860682427896\n",
      "OptSpace: Step 4: Iteration 35: distortion: 0.9003860575310468\n",
      "OptSpace: Step 4: Iteration 36: distortion: 0.9003860468193016\n",
      "OptSpace: Step 4: Iteration 37: distortion: 0.9003860361075534\n",
      "OptSpace: Step 4: Iteration 38: distortion: 0.9003860253958027\n",
      "OptSpace: Step 4: Iteration 39: distortion: 0.900386014684049\n",
      "OptSpace: Step 4: Iteration 40: distortion: 0.9003860039722927\n",
      "OptSpace: Step 4: Iteration 41: distortion: 0.9003859932605336\n",
      "OptSpace: Step 4: Iteration 42: distortion: 0.9003859825487719\n",
      "OptSpace: Step 4: Iteration 43: distortion: 0.9003859718370073\n",
      "OptSpace: Step 4: Iteration 44: distortion: 0.9003859611252402\n",
      "OptSpace: Step 4: Iteration 45: distortion: 0.9003859504134702\n",
      "OptSpace: Step 4: Iteration 46: distortion: 0.9003859397016973\n",
      "OptSpace: Step 4: Iteration 47: distortion: 0.900385928989922\n",
      "OptSpace: Step 4: Iteration 48: distortion: 0.9003859182781437\n",
      "OptSpace: Step 4: Iteration 49: distortion: 0.9003859075663627\n",
      "OptSpace: estimation finished.\n"
     ]
    }
   ],
   "source": [
    "out = OptSpace(A)"
   ]
  },
  {
   "cell_type": "code",
   "execution_count": 688,
   "id": "c4cc1bc8",
   "metadata": {},
   "outputs": [
    {
     "data": {
      "text/plain": [
       "array([[ 2., nan,  6.],\n",
       "       [ 4.,  3., nan],\n",
       "       [nan,  7.,  9.],\n",
       "       [nan, nan, 12.]])"
      ]
     },
     "execution_count": 688,
     "metadata": {},
     "output_type": "execute_result"
    }
   ],
   "source": [
    "A"
   ]
  },
  {
   "cell_type": "code",
   "execution_count": 681,
   "id": "cf1c4821",
   "metadata": {},
   "outputs": [
    {
     "data": {
      "text/plain": [
       "array([[ 0.66992175],\n",
       "       [ 0.19844283],\n",
       "       [-0.27663049],\n",
       "       [-1.93353821]])"
      ]
     },
     "execution_count": 681,
     "metadata": {},
     "output_type": "execute_result"
    }
   ],
   "source": [
    "out['X']"
   ]
  },
  {
   "cell_type": "code",
   "execution_count": 684,
   "id": "04180c99",
   "metadata": {},
   "outputs": [
    {
     "data": {
      "text/plain": [
       "array([[-11.79043806]])"
      ]
     },
     "execution_count": 684,
     "metadata": {},
     "output_type": "execute_result"
    }
   ],
   "source": [
    "out['S']"
   ]
  },
  {
   "cell_type": "code",
   "execution_count": 689,
   "id": "285bd88a",
   "metadata": {},
   "outputs": [
    {
     "data": {
      "text/plain": [
       "array([[  0.75127926, -15.69380877,   5.8992627 ],\n",
       "       [ -0.15341164,   3.20468433,  -1.20463267],\n",
       "       [ -0.14705967,   3.07199536,  -1.15475522],\n",
       "       [  1.53434562, -32.05163242,  12.04812689]])"
      ]
     },
     "execution_count": 689,
     "metadata": {},
     "output_type": "execute_result"
    }
   ],
   "source": [
    "out['X']@out['S']@(out['Y'].T)"
   ]
  },
  {
   "cell_type": "code",
   "execution_count": 1,
   "id": "ac222244",
   "metadata": {},
   "outputs": [],
   "source": [
    "%load_ext autoreload\n",
    "%autoreload 2"
   ]
  },
  {
   "cell_type": "code",
   "execution_count": 62,
   "id": "8a133fe1",
   "metadata": {},
   "outputs": [],
   "source": [
    "from OptSpace import OptSpaceImputer"
   ]
  },
  {
   "cell_type": "code",
   "execution_count": 63,
   "id": "8ef52d13",
   "metadata": {},
   "outputs": [],
   "source": [
    "opt = OptSpaceImputer(verbose = True)"
   ]
  },
  {
   "cell_type": "code",
   "execution_count": 44,
   "id": "ad0e25b6",
   "metadata": {},
   "outputs": [
    {
     "data": {
      "text/plain": [
       "array([[ 2., nan,  6.],\n",
       "       [ 4.,  3., nan],\n",
       "       [nan,  7.,  9.],\n",
       "       [nan, nan, 12.]])"
      ]
     },
     "execution_count": 44,
     "metadata": {},
     "output_type": "execute_result"
    }
   ],
   "source": [
    "A"
   ]
  },
  {
   "cell_type": "code",
   "execution_count": 64,
   "id": "70a93652",
   "metadata": {
    "scrolled": true
   },
   "outputs": [
    {
     "name": "stdout",
     "output_type": "stream",
     "text": [
      "OptSpace: Guessing an implicit rank...\n",
      "OptSpace: Estimated rank:  2\n",
      "OptSpace: Step 1: Trimming...\n",
      "OptSpace: Step 2: SVD...\n",
      "OptSpace: Step 3: Initial Guess...\n",
      "OptSpace: Step 4: Gradient Descent...\n",
      "OptSpace: Step 4: Iteration 0: distortion: 1.3123029261742096\n",
      "OptSpace: Step 4: Iteration 1: distortion: 1.2996417202844839\n",
      "OptSpace: Step 4: Iteration 2: distortion: 1.2849116027136622\n",
      "OptSpace: Step 4: Iteration 3: distortion: 1.2669395088780953\n",
      "OptSpace: Step 4: Iteration 4: distortion: 1.2438571554994848\n",
      "OptSpace: Step 4: Iteration 5: distortion: 1.2128335180703784\n",
      "OptSpace: Step 4: Iteration 6: distortion: 1.1701932187056039\n",
      "OptSpace: Step 4: Iteration 7: distortion: 1.1134097402226877\n",
      "OptSpace: Step 4: Iteration 8: distortion: 1.0472364876587898\n",
      "OptSpace: Step 4: Iteration 9: distortion: 0.9888442217604099\n",
      "OptSpace: Step 4: Iteration 10: distortion: 0.9543295267762519\n",
      "OptSpace: Step 4: Iteration 11: distortion: 0.9402398150388841\n",
      "OptSpace: Step 4: Iteration 12: distortion: 0.9345321671916043\n",
      "OptSpace: Step 4: Iteration 13: distortion: 0.9305944153472762\n",
      "OptSpace: Step 4: Iteration 14: distortion: 0.926286883474668\n",
      "OptSpace: Step 4: Iteration 15: distortion: 0.9208204383343619\n",
      "OptSpace: Step 4: Iteration 16: distortion: 0.9136065832247348\n",
      "OptSpace: Step 4: Iteration 17: distortion: 0.9039619578745651\n",
      "OptSpace: Step 4: Iteration 18: distortion: 0.9039619464824273\n",
      "OptSpace: Step 4: Iteration 19: distortion: 0.9039619350902862\n",
      "OptSpace: Step 4: Iteration 20: distortion: 0.9039619236981415\n",
      "OptSpace: Step 4: Iteration 21: distortion: 0.9039619123059934\n",
      "OptSpace: Step 4: Iteration 22: distortion: 0.903961900913842\n",
      "OptSpace: Step 4: Iteration 23: distortion: 0.903961889521687\n",
      "OptSpace: Step 4: Iteration 24: distortion: 0.9039618781295287\n",
      "OptSpace: Step 4: Iteration 25: distortion: 0.9039618667373668\n",
      "OptSpace: Step 4: Iteration 26: distortion: 0.9039618553452015\n",
      "OptSpace: Step 4: Iteration 27: distortion: 0.9039618439530325\n",
      "OptSpace: Step 4: Iteration 28: distortion: 0.9039618325608606\n",
      "OptSpace: Step 4: Iteration 29: distortion: 0.903961821168685\n",
      "OptSpace: Step 4: Iteration 30: distortion: 0.9039618097765059\n",
      "OptSpace: Step 4: Iteration 31: distortion: 0.9039617983843231\n",
      "OptSpace: Step 4: Iteration 32: distortion: 0.9039617869921373\n",
      "OptSpace: Step 4: Iteration 33: distortion: 0.903961775599948\n",
      "OptSpace: Step 4: Iteration 34: distortion: 0.9039617642077552\n",
      "OptSpace: Step 4: Iteration 35: distortion: 0.9039617528155589\n",
      "OptSpace: Step 4: Iteration 36: distortion: 0.9039617414233592\n",
      "OptSpace: Step 4: Iteration 37: distortion: 0.903961730031156\n",
      "OptSpace: Step 4: Iteration 38: distortion: 0.9039617186389495\n",
      "OptSpace: Step 4: Iteration 39: distortion: 0.9039617072467394\n",
      "OptSpace: Step 4: Iteration 40: distortion: 0.9039616958545259\n",
      "OptSpace: Step 4: Iteration 41: distortion: 0.9039616844623092\n",
      "OptSpace: Step 4: Iteration 42: distortion: 0.9039616730700887\n",
      "OptSpace: Step 4: Iteration 43: distortion: 0.903961661677865\n",
      "OptSpace: Step 4: Iteration 44: distortion: 0.9039616502856376\n",
      "OptSpace: Step 4: Iteration 45: distortion: 0.903961638893407\n",
      "OptSpace: Step 4: Iteration 46: distortion: 0.9039616275011729\n",
      "OptSpace: Step 4: Iteration 47: distortion: 0.9039616161089353\n",
      "OptSpace: Step 4: Iteration 48: distortion: 0.9039616047166943\n",
      "OptSpace: Step 4: Iteration 49: distortion: 0.9039615933244498\n",
      "OptSpace: estimation finished.\n"
     ]
    }
   ],
   "source": [
    "A_imp = opt.fit_transform(A)"
   ]
  },
  {
   "cell_type": "code",
   "execution_count": 65,
   "id": "6549d983",
   "metadata": {},
   "outputs": [
    {
     "data": {
      "text/plain": [
       "array([[ 0.68245665, 15.05311887,  5.88885865],\n",
       "       [ 0.14595227,  3.21930618,  1.25940938],\n",
       "       [ 0.13143268,  2.89904386,  1.13412109],\n",
       "       [ 1.39680857, 30.80975983, 12.05293882]])"
      ]
     },
     "execution_count": 65,
     "metadata": {},
     "output_type": "execute_result"
    }
   ],
   "source": [
    "A_imp"
   ]
  },
  {
   "cell_type": "code",
   "execution_count": 11,
   "id": "65bd3d8b",
   "metadata": {},
   "outputs": [
    {
     "data": {
      "text/plain": [
       "array([[  0.68245665, -15.05311887,   5.88885865],\n",
       "       [ -0.14595227,   3.21930618,  -1.25940938],\n",
       "       [ -0.13143268,   2.89904386,  -1.13412109],\n",
       "       [  1.39680857, -30.80975983,  12.05293882]])"
      ]
     },
     "execution_count": 11,
     "metadata": {},
     "output_type": "execute_result"
    }
   ],
   "source": [
    "res['X']@res['S']@(res['Y'].T)"
   ]
  }
 ],
 "metadata": {
  "kernelspec": {
   "display_name": "Python 3",
   "language": "python",
   "name": "python3"
  },
  "latex_envs": {
   "LaTeX_envs_menu_present": true,
   "autoclose": false,
   "autocomplete": true,
   "bibliofile": "biblio.bib",
   "cite_by": "apalike",
   "current_citInitial": 1,
   "eqLabelWithNumbers": true,
   "eqNumInitial": 1,
   "hotkeys": {
    "equation": "Ctrl-E",
    "itemize": "Ctrl-I"
   },
   "labels_anchors": false,
   "latex_user_defs": false,
   "report_style_numbering": false,
   "user_envs_cfg": false
  },
  "toc": {
   "base_numbering": 1,
   "nav_menu": {},
   "number_sections": true,
   "sideBar": true,
   "skip_h1_title": false,
   "title_cell": "Table of Contents",
   "title_sidebar": "Contents",
   "toc_cell": false,
   "toc_position": {},
   "toc_section_display": true,
   "toc_window_display": false
  },
  "varInspector": {
   "cols": {
    "lenName": 16,
    "lenType": 16,
    "lenVar": 40
   },
   "kernels_config": {
    "python": {
     "delete_cmd_postfix": "",
     "delete_cmd_prefix": "del ",
     "library": "var_list.py",
     "varRefreshCmd": "print(var_dic_list())"
    },
    "r": {
     "delete_cmd_postfix": ") ",
     "delete_cmd_prefix": "rm(",
     "library": "var_list.r",
     "varRefreshCmd": "cat(var_dic_list()) "
    }
   },
   "types_to_exclude": [
    "module",
    "function",
    "builtin_function_or_method",
    "instance",
    "_Feature"
   ],
   "window_display": false
  }
 },
 "nbformat": 4,
 "nbformat_minor": 5
}
